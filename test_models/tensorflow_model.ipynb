{
 "cells": [
  {
   "cell_type": "code",
   "execution_count": null,
   "id": "a4ff897a",
   "metadata": {},
   "outputs": [],
   "source": [
    "# import torch\n",
    "import tensorflow as tf\n",
    "# from tensorflow.keras.models import load_model\n",
    "# import numpy as np\n",
    "import json"
   ]
  },
  {
   "cell_type": "code",
   "execution_count": null,
   "id": "26c193b5",
   "metadata": {},
   "outputs": [],
   "source": [
    "cnn_model2 = tf.keras.models.Sequential([\n",
    "    tf.keras.layers.Conv2D(16, (5, 5), padding='same', activation='relu'),\n",
    "    tf.keras.layers.MaxPooling2D((2, 2)),\n",
    "    tf.keras.layers.Dropout(0.25),\n",
    "\n",
    "    tf.keras.layers.Conv2D(32, (3, 3), padding='same', activation='relu'),\n",
    "    tf.keras.layers.MaxPooling2D((2, 2)),\n",
    "    \n",
    "    tf.keras.layers.Flatten(),\n",
    "    tf.keras.layers.Dense(64, activation='relu'),\n",
    "    tf.keras.layers.Dense(2, activation='softmax'),\n",
    "])\n",
    "cnn_model2.compile(optimizer='adam',\n",
    "                   loss='sparse_categorical_crossentropy',\n",
    "                   metrics=['accuracy'])\n",
    "cnn_model2.build((None, 32, 32, 3))\n",
    "cnn_model2.save('cnn_model2.h5')\n"
   ]
  },
  {
   "cell_type": "code",
   "execution_count": null,
   "id": "badd9eae",
   "metadata": {},
   "outputs": [],
   "source": [
    "cnn_model2_loaded = tf.keras.models.load_model(\"cnn_model2.h5\", compile=False)\n",
    "cnn_model2_loaded.summary()"
   ]
  },
  {
   "cell_type": "code",
   "execution_count": null,
   "id": "7374ba5a",
   "metadata": {},
   "outputs": [],
   "source": [
    "cnn_model3 = tf.keras.models.Sequential([\n",
    "    tf.keras.layers.Conv2D(32, (7, 7), padding='same', activation='relu'),\n",
    "    tf.keras.layers.BatchNormalization(),\n",
    "    tf.keras.layers.MaxPooling2D((2, 2)),\n",
    "\n",
    "    tf.keras.layers.Conv2D(64, (5, 5), padding='same', activation='relu'),\n",
    "    tf.keras.layers.BatchNormalization(),\n",
    "    tf.keras.layers.MaxPooling2D((2, 2)),\n",
    "\n",
    "    tf.keras.layers.Flatten(),\n",
    "    tf.keras.layers.Dense(256, activation='relu'),\n",
    "    tf.keras.layers.Dense(2, activation='softmax'),\n",
    "])\n",
    "cnn_model3.compile(optimizer='adam',\n",
    "                   loss='sparse_categorical_crossentropy',\n",
    "                   metrics=['accuracy'])\n",
    "cnn_model3.build((None, 64, 64, 1))\n",
    "cnn_model3.save('cnn_model3.h5')\n"
   ]
  },
  {
   "cell_type": "code",
   "execution_count": null,
   "id": "a504af16",
   "metadata": {},
   "outputs": [],
   "source": [
    "cnn_model3_loaded = tf.keras.models.load_model(\"cnn_model3.h5\", compile=False)\n",
    "cnn_model3_loaded.summary()"
   ]
  },
  {
   "cell_type": "code",
   "execution_count": null,
   "id": "c28164d5",
   "metadata": {},
   "outputs": [],
   "source": [
    "cnn_model4 = tf.keras.models.Sequential([\n",
    "    tf.keras.layers.Conv2D(16, (3, 3), padding='same', activation='relu'),\n",
    "    tf.keras.layers.Conv2D(16, (3, 3), padding='same', activation='relu'),\n",
    "    tf.keras.layers.MaxPooling2D((2, 2)),\n",
    "\n",
    "    tf.keras.layers.Conv2D(32, (3, 3), padding='same', activation='relu'),\n",
    "    tf.keras.layers.Conv2D(32, (3, 3), padding='same', activation='relu'),\n",
    "    tf.keras.layers.MaxPooling2D((2, 2)),\n",
    "\n",
    "    tf.keras.layers.Conv2D(64, (3, 3), padding='same', activation='relu'),\n",
    "    tf.keras.layers.MaxPooling2D((2, 2)),\n",
    "\n",
    "    tf.keras.layers.Flatten(),\n",
    "    tf.keras.layers.Dense(128, activation='relu'),\n",
    "    tf.keras.layers.Dense(2, activation='softmax'),\n",
    "])\n",
    "cnn_model4.compile(optimizer='adam',\n",
    "                   loss='sparse_categorical_crossentropy',\n",
    "                   metrics=['accuracy'])\n",
    "cnn_model4.build((None, 96, 96, 3))\n",
    "cnn_model4.save('cnn_model4.h5')\n"
   ]
  },
  {
   "cell_type": "code",
   "execution_count": null,
   "id": "6282fcd3",
   "metadata": {},
   "outputs": [],
   "source": [
    "cnn_model4_loaded = tf.keras.models.load_model(\"cnn_model4.h5\", compile=False)\n",
    "cnn_model4_loaded.summary()"
   ]
  },
  {
   "cell_type": "code",
   "execution_count": null,
   "id": "a57b6afb",
   "metadata": {},
   "outputs": [],
   "source": [
    "cnn_model5 = tf.keras.models.Sequential([\n",
    "    tf.keras.layers.Conv2D(32, (3, 3), activation='relu', padding='same'),\n",
    "    tf.keras.layers.MaxPooling2D((2, 2)),\n",
    "\n",
    "    tf.keras.layers.Conv2D(64, (3, 3), activation='relu', padding='same'),\n",
    "    tf.keras.layers.MaxPooling2D((2, 2)),\n",
    "\n",
    "    tf.keras.layers.Conv2DTranspose(64, (3, 3), strides=2, padding='same', activation='relu'),\n",
    "    tf.keras.layers.Conv2DTranspose(32, (3, 3), strides=2, padding='same', activation='relu'),\n",
    "\n",
    "    tf.keras.layers.Conv2D(1, (3, 3), padding='same', activation='sigmoid'),\n",
    "])\n",
    "cnn_model5.compile(optimizer='adam', loss='mse')\n",
    "cnn_model5.build((None, 28, 28, 1))\n",
    "cnn_model5.save('cnn_model5.h5')\n"
   ]
  },
  {
   "cell_type": "code",
   "execution_count": null,
   "id": "6ad4bf45",
   "metadata": {},
   "outputs": [],
   "source": [
    "cnn_model5_loaded = tf.keras.models.load_model(\"cnn_model5.h5\", compile=False)\n",
    "cnn_model5_loaded.summary()"
   ]
  }
 ],
 "metadata": {
  "kernelspec": {
   "display_name": "Python 3",
   "language": "python",
   "name": "python3"
  },
  "language_info": {
   "name": "python",
   "version": "3.13.3"
  }
 },
 "nbformat": 4,
 "nbformat_minor": 5
}
