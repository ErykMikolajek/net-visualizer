{
 "cells": [
  {
   "cell_type": "code",
   "execution_count": 1,
   "metadata": {},
   "outputs": [],
   "source": [
    "# import torch\n",
    "import tensorflow as tf\n",
    "# from tensorflow.keras.models import load_model\n",
    "# import numpy as np\n",
    "import json"
   ]
  },
  {
   "cell_type": "code",
   "execution_count": 2,
   "metadata": {},
   "outputs": [],
   "source": [
    "# preparing some models to test their architecture representation\n",
    "cnn_model1 = tf.keras.models.Sequential([\n",
    "    tf.keras.layers.Conv2D(32, (3, 3), strides=(1, 1), padding='same', activation='relu'),\n",
    "    tf.keras.layers.MaxPool2D(pool_size=(2, 2)),\n",
    "\n",
    "    tf.keras.layers.Conv2D(64, (3, 3), strides=(1, 1), padding='same', activation='relu'),\n",
    "    tf.keras.layers.MaxPool2D(pool_size=(2, 2)),\n",
    "\n",
    "    tf.keras.layers.Conv2D(128, (3, 3), strides=(1, 1), padding='same', activation='relu'),\n",
    "    tf.keras.layers.MaxPool2D(pool_size=(2, 2)),\n",
    "\n",
    "    tf.keras.layers.Flatten(),\n",
    "    tf.keras.layers.Dense(512, activation='relu'),\n",
    "    tf.keras.layers.Dense(2, activation='relu'),\n",
    "])\n",
    "cnn_model1.compile(optimizer='adam',\n",
    "                loss=tf.keras.losses.SparseCategoricalCrossentropy(),\n",
    "                metrics=[tf.keras.metrics.SparseCategoricalAccuracy()])\n",
    "cnn_model1.build((64, 128, 128, 1))\n",
    "cnn_model1.save('cnn_model1.h5')"
   ]
  },
  {
   "cell_type": "code",
   "execution_count": 3,
   "metadata": {},
   "outputs": [
    {
     "name": "stdout",
     "output_type": "stream",
     "text": [
      "Model: \"sequential\"\n",
      "_________________________________________________________________\n",
      " Layer (type)                Output Shape              Param #   \n",
      "=================================================================\n",
      " conv2d (Conv2D)             (64, 128, 128, 32)        320       \n",
      "                                                                 \n",
      " max_pooling2d (MaxPooling2D  (64, 64, 64, 32)         0         \n",
      " )                                                               \n",
      "                                                                 \n",
      " conv2d_1 (Conv2D)           (64, 64, 64, 64)          18496     \n",
      "                                                                 \n",
      " max_pooling2d_1 (MaxPooling  (64, 32, 32, 64)         0         \n",
      " 2D)                                                             \n",
      "                                                                 \n",
      " conv2d_2 (Conv2D)           (64, 32, 32, 128)         73856     \n",
      "                                                                 \n",
      " max_pooling2d_2 (MaxPooling  (64, 16, 16, 128)        0         \n",
      " 2D)                                                             \n",
      "                                                                 \n",
      " flatten (Flatten)           (64, 32768)               0         \n",
      "                                                                 \n",
      " dense (Dense)               (64, 512)                 16777728  \n",
      "                                                                 \n",
      " dense_1 (Dense)             (64, 2)                   1026      \n",
      "                                                                 \n",
      "=================================================================\n",
      "Total params: 16,871,426\n",
      "Trainable params: 16,871,426\n",
      "Non-trainable params: 0\n",
      "_________________________________________________________________\n"
     ]
    }
   ],
   "source": [
    "cnn_model1_loaded = tf.keras.models.load_model(\"cnn_model1.h5\", compile=False)\n",
    "cnn_model1_loaded.summary()"
   ]
  },
  {
   "cell_type": "code",
   "execution_count": 4,
   "metadata": {},
   "outputs": [
    {
     "name": "stdout",
     "output_type": "stream",
     "text": [
      "{\n",
      "    \"model_name\": \"sequential\",\n",
      "    \"total_params\": 16871426,\n",
      "    \"layers\": [\n",
      "        {\n",
      "            \"name\": \"conv2d\",\n",
      "            \"type\": \"Conv2D\",\n",
      "            \"output_shape\": \"(64, 128, 128, 32)\"\n",
      "        },\n",
      "        {\n",
      "            \"name\": \"max_pooling2d\",\n",
      "            \"type\": \"MaxPooling2D\",\n",
      "            \"output_shape\": \"(64, 64, 64, 32)\"\n",
      "        },\n",
      "        {\n",
      "            \"name\": \"conv2d_1\",\n",
      "            \"type\": \"Conv2D\",\n",
      "            \"output_shape\": \"(64, 64, 64, 64)\"\n",
      "        },\n",
      "        {\n",
      "            \"name\": \"max_pooling2d_1\",\n",
      "            \"type\": \"MaxPooling2D\",\n",
      "            \"output_shape\": \"(64, 32, 32, 64)\"\n",
      "        },\n",
      "        {\n",
      "            \"name\": \"conv2d_2\",\n",
      "            \"type\": \"Conv2D\",\n",
      "            \"output_shape\": \"(64, 32, 32, 128)\"\n",
      "        },\n",
      "        {\n",
      "            \"name\": \"max_pooling2d_2\",\n",
      "            \"type\": \"MaxPooling2D\",\n",
      "            \"output_shape\": \"(64, 16, 16, 128)\"\n",
      "        },\n",
      "        {\n",
      "            \"name\": \"flatten\",\n",
      "            \"type\": \"Flatten\",\n",
      "            \"output_shape\": \"(64, 32768)\"\n",
      "        },\n",
      "        {\n",
      "            \"name\": \"dense\",\n",
      "            \"type\": \"Dense\",\n",
      "            \"output_shape\": \"(64, 512)\"\n",
      "        },\n",
      "        {\n",
      "            \"name\": \"dense_1\",\n",
      "            \"type\": \"Dense\",\n",
      "            \"output_shape\": \"(64, 2)\"\n",
      "        }\n",
      "    ]\n",
      "}\n"
     ]
    }
   ],
   "source": [
    "def save_model_info_to_json(model, filename):\n",
    "    model_info = {\n",
    "        'model_name': model.name,\n",
    "        'total_params': model.count_params(),\n",
    "        'layers': []\n",
    "    }\n",
    "    \n",
    "    for layer in model.layers:\n",
    "        layer_info = {\n",
    "            'name': layer.name,\n",
    "            'type': layer.__class__.__name__,\n",
    "            'output_shape': '',\n",
    "        }\n",
    "        if hasattr(layer, 'output_shape'):\n",
    "            layer_info['output_shape'] = str(layer.output_shape)\n",
    "        # print(layer.get_config())\n",
    "        model_info['layers'].append(layer_info)\n",
    "    \n",
    "    # with open(filename, 'w') as f:\n",
    "    #     json.dump(model_info, f, indent=4)\n",
    "    print(json.dumps(model_info, indent=4))\n",
    "    \n",
    "save_model_info_to_json(cnn_model1_loaded, 'cnn_model1_info.json')"
   ]
  },
  {
   "cell_type": "code",
   "execution_count": null,
   "metadata": {},
   "outputs": [
    {
     "ename": "AttributeError",
     "evalue": "module 'keras.api._v2.keras' has no attribute 'load_model'",
     "output_type": "error",
     "traceback": [
      "\u001b[0;31m---------------------------------------------------------------------------\u001b[0m",
      "\u001b[0;31mAttributeError\u001b[0m                            Traceback (most recent call last)",
      "Cell \u001b[0;32mIn[5], line 1\u001b[0m\n\u001b[0;32m----> 1\u001b[0m model_1 \u001b[38;5;241m=\u001b[39m \u001b[43mtf\u001b[49m\u001b[38;5;241;43m.\u001b[39;49m\u001b[43mkeras\u001b[49m\u001b[38;5;241;43m.\u001b[39;49m\u001b[43mload_model\u001b[49m\u001b[38;5;241m.\u001b[39mmodels(\u001b[38;5;124m\"\u001b[39m\u001b[38;5;124mtmpmojn71y1.h5\u001b[39m\u001b[38;5;124m\"\u001b[39m, \u001b[38;5;28mcompile\u001b[39m\u001b[38;5;241m=\u001b[39m\u001b[38;5;28;01mFalse\u001b[39;00m)\n\u001b[1;32m      3\u001b[0m model_2 \u001b[38;5;241m=\u001b[39m tf\u001b[38;5;241m.\u001b[39mkeras\u001b[38;5;241m.\u001b[39mload_model\u001b[38;5;241m.\u001b[39mmodels(\u001b[38;5;124m\"\u001b[39m\u001b[38;5;124mtmprpyimbxg.h5\u001b[39m\u001b[38;5;124m\"\u001b[39m, \u001b[38;5;28mcompile\u001b[39m\u001b[38;5;241m=\u001b[39m\u001b[38;5;28;01mFalse\u001b[39;00m)\n\u001b[1;32m      4\u001b[0m model_2\u001b[38;5;241m.\u001b[39msummary()\n",
      "\u001b[0;31mAttributeError\u001b[0m: module 'keras.api._v2.keras' has no attribute 'load_model'"
     ]
    }
   ],
   "source": [
    "model_1 = tf.keras.models.load_model(\"tmpmojn71y1.h5\", compile=False)\n",
    "\n",
    "model_2 = tf.keras.models.load_model(\"tmprpyimbxg.h5\", compile=False)\n",
    "model_2.summary()"
   ]
  },
  {
   "cell_type": "code",
   "execution_count": 6,
   "metadata": {},
   "outputs": [
    {
     "name": "stdout",
     "output_type": "stream",
     "text": [
      "{\n",
      "    \"model_name\": \"sequential\",\n",
      "    \"total_params\": 16871426,\n",
      "    \"layers\": [\n",
      "        {\n",
      "            \"name\": \"conv2d\",\n",
      "            \"type\": \"Conv2D\",\n",
      "            \"output_shape\": \"(64, 128, 128, 32)\"\n",
      "        },\n",
      "        {\n",
      "            \"name\": \"max_pooling2d\",\n",
      "            \"type\": \"MaxPooling2D\",\n",
      "            \"output_shape\": \"(64, 64, 64, 32)\"\n",
      "        },\n",
      "        {\n",
      "            \"name\": \"conv2d_1\",\n",
      "            \"type\": \"Conv2D\",\n",
      "            \"output_shape\": \"(64, 64, 64, 64)\"\n",
      "        },\n",
      "        {\n",
      "            \"name\": \"max_pooling2d_1\",\n",
      "            \"type\": \"MaxPooling2D\",\n",
      "            \"output_shape\": \"(64, 32, 32, 64)\"\n",
      "        },\n",
      "        {\n",
      "            \"name\": \"conv2d_2\",\n",
      "            \"type\": \"Conv2D\",\n",
      "            \"output_shape\": \"(64, 32, 32, 128)\"\n",
      "        },\n",
      "        {\n",
      "            \"name\": \"max_pooling2d_2\",\n",
      "            \"type\": \"MaxPooling2D\",\n",
      "            \"output_shape\": \"(64, 16, 16, 128)\"\n",
      "        },\n",
      "        {\n",
      "            \"name\": \"flatten\",\n",
      "            \"type\": \"Flatten\",\n",
      "            \"output_shape\": \"(64, 32768)\"\n",
      "        },\n",
      "        {\n",
      "            \"name\": \"dense\",\n",
      "            \"type\": \"Dense\",\n",
      "            \"output_shape\": \"(64, 512)\"\n",
      "        },\n",
      "        {\n",
      "            \"name\": \"dense_1\",\n",
      "            \"type\": \"Dense\",\n",
      "            \"output_shape\": \"(64, 2)\"\n",
      "        }\n",
      "    ]\n",
      "}\n"
     ]
    }
   ],
   "source": [
    "save_model_info_to_json(model_1, 'model_1.json')"
   ]
  },
  {
   "cell_type": "code",
   "execution_count": null,
   "metadata": {},
   "outputs": [],
   "source": []
  }
 ],
 "metadata": {
  "kernelspec": {
   "display_name": "ml",
   "language": "python",
   "name": "python3"
  },
  "language_info": {
   "codemirror_mode": {
    "name": "ipython",
    "version": 3
   },
   "file_extension": ".py",
   "mimetype": "text/x-python",
   "name": "python",
   "nbconvert_exporter": "python",
   "pygments_lexer": "ipython3",
   "version": "3.10.12"
  }
 },
 "nbformat": 4,
 "nbformat_minor": 2
}
